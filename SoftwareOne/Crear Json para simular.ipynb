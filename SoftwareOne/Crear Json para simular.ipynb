{
 "cells": [
  {
   "cell_type": "code",
   "execution_count": 1,
   "metadata": {},
   "outputs": [],
   "source": [
    "import json\n",
    "from random import randint\n",
    "import random\n"
   ]
  },
  {
   "cell_type": "code",
   "execution_count": 4,
   "metadata": {},
   "outputs": [
    {
     "name": "stdout",
     "output_type": "stream",
     "text": [
      "jsons creados y guardados en:  ./5. jsons tests\n"
     ]
    }
   ],
   "source": [
    "def random_with_N_digits(n):\n",
    "    range_start = 10**(n-1)\n",
    "    range_end = (10**n)-1\n",
    "    return randint(range_start, range_end)\n",
    "\n",
    "cant_json_a_crear = 5\n",
    "\n",
    "\n",
    "cliente   = ['cliente1', 'cliente2', 'cliente3', 'cliente4','cliente5','cliente6','cliente7']\n",
    "imgs      = [\"./SoftwareOne/0. imgs/1.jpg\",\"./SoftwareOne/0. imgs/2.jpg\",\"./SoftwareOne/0. imgs/3.jpg\",\n",
    "             \"./SoftwareOne/0. imgs/4.jpg\",\"./SoftwareOne/0. imgs/5.jpg\",\"./SoftwareOne/0. imgs/6.jpg\",\n",
    "             \"./SoftwareOne/0. imgs/7.jpg\",\"./SoftwareOne/0. imgs/8.jpg\",\"./SoftwareOne/0. imgs/9.jpg\"]\n",
    "\n",
    "json_model = './4. json model/data_202028005.json'\n",
    "\n",
    "with open(json_model) as json_file:\n",
    "    res= json.loads(json_file.read())\n",
    "\n",
    "for i in range(0,cant_json_a_crear ):\n",
    "    cant_img = random.randint(1,9)\n",
    "    res['job_id']          =  random_with_N_digits(9)\n",
    "    res[\"master_customer\"] =  random.choice(cliente)\n",
    "    res[\"img_cap\"]         =  [random.sample(imgs,cant_img)][0]\n",
    "    res['proyecto']        =  'proyecto1'\n",
    "    #print(job_id, cant_img, cliente, imagenes,res)\n",
    "\n",
    "    with open('./5. jsons tests/data_' + str(res['job_id']) + \".json\"  , 'w') as f:\n",
    "        json.dump(res, f)\n",
    "\n",
    "print('jsons creados y guardados en:  ./5. jsons tests')\n",
    "\n",
    "    "
   ]
  }
 ],
 "metadata": {
  "kernelspec": {
   "display_name": "Python 3",
   "language": "python",
   "name": "python3"
  },
  "language_info": {
   "codemirror_mode": {
    "name": "ipython",
    "version": 3
   },
   "file_extension": ".py",
   "mimetype": "text/x-python",
   "name": "python",
   "nbconvert_exporter": "python",
   "pygments_lexer": "ipython3",
   "version": "3.7.4"
  }
 },
 "nbformat": 4,
 "nbformat_minor": 2
}
